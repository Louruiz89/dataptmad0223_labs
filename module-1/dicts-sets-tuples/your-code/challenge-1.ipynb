{
 "cells": [
  {
   "cell_type": "markdown",
   "metadata": {},
   "source": [
    "## Challenge 1: Tuples\n",
    "\n",
    "#### Do you know you can create tuples with only one element?\n",
    "\n",
    "**In the cell below, define a variable `tup` with a single element `\"I\"`.**\n",
    "\n",
    "*Hint: you need to add a comma (`,`) after the single element.*"
   ]
  },
  {
   "cell_type": "code",
   "execution_count": null,
   "metadata": {},
   "outputs": [],
   "source": [
    "tup = ('I',)\n"
   ]
  },
  {
   "cell_type": "markdown",
   "metadata": {},
   "source": [
    "#### Print the type of `tup`. \n",
    "\n",
    "Make sure its type is correct (i.e. *tuple* instead of *str*)."
   ]
  },
  {
   "cell_type": "code",
   "execution_count": null,
   "metadata": {},
   "outputs": [],
   "source": [
    "tup = ('I',)\n",
    "print(type(tup))\n"
   ]
  },
  {
   "cell_type": "markdown",
   "metadata": {},
   "source": [
    "#### Now try to append the following elements to `tup`. \n",
    "\n",
    "Are you able to do it? Explain.\n",
    "\n",
    "```\n",
    "\"r\", \"o\", \"n\", \"h\", \"a\", \"c\", \"k',\n",
    "```"
   ]
  },
  {
   "cell_type": "code",
   "execution_count": null,
   "metadata": {},
   "outputs": [],
   "source": [
    "tup = ('I',)\n",
    "tup.append('r')\n",
    "tup.append('o')\n",
    "tup.append('n')\n",
    "tup.append('h')\n",
    "tup.append('a')\n",
    "tup.append('c')\n",
    "tup.append('k')\n",
    "print(tup)\n",
    "\n",
    "#No, las tuplas son datos combindados en una lista que no se pueden modificar\n"
   ]
  },
  {
   "cell_type": "markdown",
   "metadata": {},
   "source": [
    "#### How about re-assign a new value to an existing tuple?\n",
    "\n",
    "Re-assign the following elements to `tup`. Are you able to do it? Explain.\n",
    "\n",
    "```\n",
    "\"I\", \"r\", \"o\", \"n\", \"h\", \"a\", \"c\", \"k\"\n",
    "```"
   ]
  },
  {
   "cell_type": "code",
   "execution_count": null,
   "metadata": {},
   "outputs": [],
   "source": [
    "tup = ('I',)\n",
    "lista = list(tup)\n",
    "print(type(lista))\n",
    "lista.append('r')\n",
    "lista.append('o')\n",
    "lista.append('n')\n",
    "lista.append('h')\n",
    "lista.append('a')\n",
    "lista.append('c')\n",
    "lista.append('k')\n",
    "print(lista)\n",
    "tup = tuple(lista)\n",
    "print(type(tup))\n",
    "print(tup)\n",
    "\n",
    "#Si pero solo a raiz de convertir la tupla en una lista, modificarla y volver a convertirla\n"
   ]
  },
  {
   "cell_type": "markdown",
   "metadata": {},
   "source": [
    "#### Split `tup` into `tup1` and `tup2` with 4 elements in each. \n",
    "\n",
    "`tup1` should be `(\"I\", \"r\", \"o\", \"n\")` and `tup2` should be `(\"h\", \"a\", \"c\", \"k\")`.\n",
    "\n",
    "*Hint: use positive index numbers for `tup1` assignment and use negative index numbers for `tup2` assignment. Positive index numbers count from the beginning whereas negative index numbers count from the end of the sequence.*\n",
    "\n",
    "Also print `tup1` and `tup2`."
   ]
  },
  {
   "cell_type": "code",
   "execution_count": null,
   "metadata": {},
   "outputs": [],
   "source": [
    "tup = ('I',)\n",
    "lista = list(tup)\n",
    "print(type(lista))\n",
    "lista.append('r')\n",
    "lista.append('o')\n",
    "lista.append('n')\n",
    "lista.append('h')\n",
    "lista.append('a')\n",
    "lista.append('c')\n",
    "lista.append('k')\n",
    "print(lista)\n",
    "tup1 = lista[0:4]\n",
    "print(tup1)\n",
    "tup2 = lista[4:8] #en negativo me sale vacío\n",
    "print(tup2)\n",
    "tup1 = tuple(lista)\n",
    "tup2 = tuple(lista)\n",
    "print(type(tup1))\n",
    "print(type(tup2))"
   ]
  },
  {
   "cell_type": "markdown",
   "metadata": {},
   "source": [
    "#### Add `tup1` and `tup2` into `tup3` using the `+` operator.\n",
    "\n",
    "Then print `tup3` and check if `tup3` equals to `tup`."
   ]
  },
  {
   "cell_type": "code",
   "execution_count": null,
   "metadata": {},
   "outputs": [],
   "source": [
    "tup = ('I',)\n",
    "lista = list(tup)\n",
    "print(type(lista))\n",
    "lista.append('r')\n",
    "lista.append('o')\n",
    "lista.append('n')\n",
    "lista.append('h')\n",
    "lista.append('a')\n",
    "lista.append('c')\n",
    "lista.append('k')\n",
    "print(lista)\n",
    "tup1 = lista[0:4]\n",
    "print(tup1)\n",
    "tup2 = lista[4:8] #en negativo me sale vacío\n",
    "print(tup2)\n",
    "tup3 = tup1 + tup2\n",
    "print(tup3)\n",
    "tup3 = tuple(lista)\n",
    "print(type(tup3))"
   ]
  },
  {
   "cell_type": "markdown",
   "metadata": {},
   "source": [
    "#### Count the number of elements in `tup1` and `tup2`. Then add the two counts together and check if the sum is the same as the number of elements in `tup3`."
   ]
  },
  {
   "cell_type": "code",
   "execution_count": null,
   "metadata": {},
   "outputs": [],
   "source": [
    "tup = ('I',)\n",
    "lista = list(tup)\n",
    "print(type(lista))\n",
    "lista.append('r')\n",
    "lista.append('o')\n",
    "lista.append('n')\n",
    "lista.append('h')\n",
    "lista.append('a')\n",
    "lista.append('c')\n",
    "lista.append('k')\n",
    "print(lista)\n",
    "tup1 = lista[0:4]\n",
    "print(tup1)\n",
    "tup2 = lista[4:8] #en negativo me sale vacío\n",
    "print(tup2)\n",
    "tup3 = tup1 + tup2\n",
    "print(tup3)\n",
    "print(len(tup1))\n",
    "print(len(tup2))\n",
    "if len(tup3)==len(tup1+tup2):\n",
    "    print('true')\n"
   ]
  },
  {
   "cell_type": "markdown",
   "metadata": {},
   "source": [
    "#### What is the index number of `\"h\"` in `tup3`?"
   ]
  },
  {
   "cell_type": "code",
   "execution_count": null,
   "metadata": {},
   "outputs": [],
   "source": [
    "tup = ('I',)\n",
    "lista = list(tup)\n",
    "print(type(lista))\n",
    "lista.append('r')\n",
    "lista.append('o')\n",
    "lista.append('n')\n",
    "lista.append('h')\n",
    "lista.append('a')\n",
    "lista.append('c')\n",
    "lista.append('k')\n",
    "print(lista)\n",
    "tup1 = lista[0:4]\n",
    "print(tup1)\n",
    "tup2 = lista[4:8] #en negativo me sale vacío\n",
    "print(tup2)\n",
    "tup3 = tup1 + tup2\n",
    "print(tup3)\n",
    "print(tup3.index('h'))"
   ]
  },
  {
   "cell_type": "markdown",
   "metadata": {},
   "source": [
    "#### Now, use a FOR loop to check whether each letter in the following list is present in `tup3`:\n",
    "\n",
    "```\n",
    "letters = [\"a\", \"b\", \"c\", \"d\", \"e\"]\n",
    "```\n",
    "\n",
    "For each letter you check, print `True` if it is present in `tup3` otherwise print `False`.\n",
    "\n",
    "*Hint: you only need to loop `letters`. You don't need to loop `tup3` because there is a Python operator `in` you can use. See [reference](https://stackoverflow.com/questions/17920147/how-to-check-if-a-tuple-contains-an-element-in-python).*"
   ]
  },
  {
   "cell_type": "code",
   "execution_count": null,
   "metadata": {},
   "outputs": [],
   "source": [
    "tup = ('I',)\n",
    "lista = list(tup)\n",
    "print(type(lista))\n",
    "lista.append('r')\n",
    "lista.append('o')\n",
    "lista.append('n')\n",
    "lista.append('h')\n",
    "lista.append('a')\n",
    "lista.append('c')\n",
    "lista.append('k')\n",
    "print(lista)\n",
    "tup1 = lista[0:4]\n",
    "print(tup1)\n",
    "tup2 = lista[4:8] #en negativo me sale vacío\n",
    "print(tup2)\n",
    "tup3 = tup1 + tup2\n",
    "print(tup3)\n",
    "letters = [\"a\",\"b\",\"c\",\"d\",\"e\"]\n",
    "for element in tup3:\n",
    "    if(element in letters):\n",
    "        print('true')\n",
    "    else:\n",
    "        print('false')\n"
   ]
  },
  {
   "cell_type": "markdown",
   "metadata": {},
   "source": [
    "#### How many times does each letter in `letters` appear in `tup3`?\n",
    "\n",
    "Print out the number of occurrence of each letter."
   ]
  },
  {
   "cell_type": "code",
   "execution_count": null,
   "metadata": {},
   "outputs": [],
   "source": [
    "tup = ('I',)\n",
    "lista = list(tup)\n",
    "print(type(lista))\n",
    "lista.append('r')\n",
    "lista.append('o')\n",
    "lista.append('n')\n",
    "lista.append('h')\n",
    "lista.append('a')\n",
    "lista.append('c')\n",
    "lista.append('k')\n",
    "print(lista)\n",
    "tup1 = lista[0:4]\n",
    "print(tup1)\n",
    "tup2 = lista[4:8] #en negativo me sale vacío\n",
    "print(tup2)\n",
    "tup3 = tup1 + tup2\n",
    "print(tup3)\n",
    "letters = [\"a\",\"b\",\"c\",\"d\",\"e\"]\n",
    "contador = 0\n",
    "for element in tup3:\n",
    "    if(element in letters):\n",
    "        contador = contador +1\n",
    "print(contador)\n",
    " #No he sido capaz de mostrar la cuenta de cada letra, solo de sumar las letras que hay en tup3"
   ]
  }
 ],
 "metadata": {
  "kernelspec": {
   "display_name": "base",
   "language": "python",
   "name": "python3"
  },
  "language_info": {
   "codemirror_mode": {
    "name": "ipython",
    "version": 3
   },
   "file_extension": ".py",
   "mimetype": "text/x-python",
   "name": "python",
   "nbconvert_exporter": "python",
   "pygments_lexer": "ipython3",
   "version": "3.9.16"
  },
  "vscode": {
   "interpreter": {
    "hash": "0412f6f710ffd8102929b0849d57a73fab8e435d5d6bb79d26c9b7048643da5e"
   }
  }
 },
 "nbformat": 4,
 "nbformat_minor": 2
}
