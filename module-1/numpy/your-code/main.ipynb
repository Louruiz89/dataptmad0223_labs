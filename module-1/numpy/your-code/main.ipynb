{
 "cells": [
  {
   "cell_type": "markdown",
   "metadata": {},
   "source": [
    "# Introduction to NumPy\n",
    "\n",
    "\n",
    "#### 1. Import NumPy under the name np."
   ]
  },
  {
   "cell_type": "code",
   "execution_count": 1,
   "metadata": {},
   "outputs": [],
   "source": [
    "import numpy as np"
   ]
  },
  {
   "cell_type": "markdown",
   "metadata": {},
   "source": [
    "#### 2. Print your NumPy version."
   ]
  },
  {
   "cell_type": "code",
   "execution_count": 2,
   "metadata": {},
   "outputs": [
    {
     "name": "stdout",
     "output_type": "stream",
     "text": [
      "1.23.5\n"
     ]
    }
   ],
   "source": [
    "print(np.__version__)"
   ]
  },
  {
   "cell_type": "markdown",
   "metadata": {},
   "source": [
    "#### 3. Generate a 2x3x5 3-dimensional array with random values. Assign the array to variable *a*.\n",
    "**Challenge**: there are at least three easy ways that use numpy to generate random arrays. How many ways can you find?"
   ]
  },
  {
   "cell_type": "code",
   "execution_count": 3,
   "metadata": {},
   "outputs": [
    {
     "name": "stdout",
     "output_type": "stream",
     "text": [
      "[[[0.11226568 0.8973345  0.75927893 0.27296176 0.23321398]\n",
      "  [0.69649753 0.59929898 0.41886666 0.43849722 0.28543532]\n",
      "  [0.59080318 0.02979872 0.67780113 0.62811983 0.03007618]]\n",
      "\n",
      " [[0.62068285 0.47056242 0.87764528 0.60030138 0.52070466]\n",
      "  [0.19975772 0.35854492 0.86667203 0.59054212 0.60591732]\n",
      "  [0.95340579 0.69828869 0.08026843 0.82288405 0.13932042]]]\n"
     ]
    }
   ],
   "source": [
    "# Method 1\n",
    "\n",
    "a = np.random.random((2,3,5))\n",
    "print(a)"
   ]
  },
  {
   "cell_type": "code",
   "execution_count": 4,
   "metadata": {},
   "outputs": [
    {
     "name": "stdout",
     "output_type": "stream",
     "text": [
      "[[[0.20587777 0.61117554 0.37344853 0.51098227 0.08707099]\n",
      "  [0.41034908 0.60193015 0.72239769 0.02639518 0.44316364]\n",
      "  [0.28352632 0.49492057 0.48379477 0.31128754 0.56367945]]\n",
      "\n",
      " [[0.08614323 0.76596331 0.5418164  0.80447033 0.4154882 ]\n",
      "  [0.14427717 0.83339534 0.93440831 0.91738531 0.5518449 ]\n",
      "  [0.68318666 0.73642279 0.28193266 0.33934195 0.86932768]]]\n"
     ]
    }
   ],
   "source": [
    "# Method 2\n",
    "\n",
    "a = np.random.random_sample((2,3,5))\n",
    "print(a)"
   ]
  },
  {
   "cell_type": "code",
   "execution_count": 5,
   "metadata": {},
   "outputs": [
    {
     "name": "stdout",
     "output_type": "stream",
     "text": [
      "[[[16 76 87 21 28]\n",
      "  [63 13 36 49 71]\n",
      "  [23 92 75 24 46]]\n",
      "\n",
      " [[67  4 69 28 50]\n",
      "  [68 83 16 87  0]\n",
      "  [29 23 88 15 75]]]\n"
     ]
    }
   ],
   "source": [
    "# Method 3\n",
    "\n",
    "a = np.random.randint(0, 100, size=(2, 3, 5))\n",
    "print(a)"
   ]
  },
  {
   "cell_type": "markdown",
   "metadata": {},
   "source": [
    "#### 4. Print *a*.\n"
   ]
  },
  {
   "cell_type": "code",
   "execution_count": 6,
   "metadata": {},
   "outputs": [
    {
     "name": "stdout",
     "output_type": "stream",
     "text": [
      "[[[16 76 87 21 28]\n",
      "  [63 13 36 49 71]\n",
      "  [23 92 75 24 46]]\n",
      "\n",
      " [[67  4 69 28 50]\n",
      "  [68 83 16 87  0]\n",
      "  [29 23 88 15 75]]]\n"
     ]
    }
   ],
   "source": [
    "print(a)"
   ]
  },
  {
   "cell_type": "markdown",
   "metadata": {},
   "source": [
    "#### 5. Create a 5x2x3 3-dimensional array with all values equaling 1. Assign the array to variable *b*."
   ]
  },
  {
   "cell_type": "code",
   "execution_count": 7,
   "metadata": {},
   "outputs": [],
   "source": [
    "b = np.ones((5,2,3))"
   ]
  },
  {
   "cell_type": "markdown",
   "metadata": {},
   "source": [
    "#### 6. Print *b*.\n"
   ]
  },
  {
   "cell_type": "code",
   "execution_count": 8,
   "metadata": {},
   "outputs": [
    {
     "name": "stdout",
     "output_type": "stream",
     "text": [
      "[[[1. 1. 1.]\n",
      "  [1. 1. 1.]]\n",
      "\n",
      " [[1. 1. 1.]\n",
      "  [1. 1. 1.]]\n",
      "\n",
      " [[1. 1. 1.]\n",
      "  [1. 1. 1.]]\n",
      "\n",
      " [[1. 1. 1.]\n",
      "  [1. 1. 1.]]\n",
      "\n",
      " [[1. 1. 1.]\n",
      "  [1. 1. 1.]]]\n"
     ]
    }
   ],
   "source": [
    "print(b)"
   ]
  },
  {
   "cell_type": "markdown",
   "metadata": {},
   "source": [
    "#### 7. Do *a* and *b* have the same size? How do you prove that in Python code?"
   ]
  },
  {
   "cell_type": "code",
   "execution_count": 12,
   "metadata": {},
   "outputs": [
    {
     "name": "stdout",
     "output_type": "stream",
     "text": [
      "No\n"
     ]
    }
   ],
   "source": [
    "if np.shape(a) == np.shape(b):\n",
    "        print('Yes')\n",
    "else:\n",
    "        print('No')"
   ]
  },
  {
   "cell_type": "markdown",
   "metadata": {},
   "source": [
    "#### 8. Are you able to add *a* and *b*? Why or why not?\n"
   ]
  },
  {
   "cell_type": "code",
   "execution_count": 14,
   "metadata": {},
   "outputs": [
    {
     "ename": "ValueError",
     "evalue": "operands could not be broadcast together with shapes (2,3,5) (5,2,3) ",
     "output_type": "error",
     "traceback": [
      "\u001b[1;31m---------------------------------------------------------------------------\u001b[0m",
      "\u001b[1;31mValueError\u001b[0m                                Traceback (most recent call last)",
      "Cell \u001b[1;32mIn[14], line 1\u001b[0m\n\u001b[1;32m----> 1\u001b[0m c \u001b[38;5;241m=\u001b[39m \u001b[43mnp\u001b[49m\u001b[38;5;241;43m.\u001b[39;49m\u001b[43madd\u001b[49m\u001b[43m(\u001b[49m\u001b[43ma\u001b[49m\u001b[43m,\u001b[49m\u001b[43mb\u001b[49m\u001b[43m)\u001b[49m\n\u001b[0;32m      2\u001b[0m \u001b[38;5;28mprint\u001b[39m(c)\n",
      "\u001b[1;31mValueError\u001b[0m: operands could not be broadcast together with shapes (2,3,5) (5,2,3) "
     ]
    }
   ],
   "source": [
    "c = np.add(a,b)\n",
    "print(c)\n",
    "#No, da error ya que 'a' y 'b' no son del mismo tamaño"
   ]
  },
  {
   "cell_type": "markdown",
   "metadata": {},
   "source": [
    "#### 9. Transpose *b* so that it has the same structure of *a* (i.e. become a 2x3x5 array). Assign the transposed array to variable *c*."
   ]
  },
  {
   "cell_type": "code",
   "execution_count": 22,
   "metadata": {},
   "outputs": [
    {
     "name": "stdout",
     "output_type": "stream",
     "text": [
      "[[[1. 1. 1. 1. 1.]\n",
      "  [1. 1. 1. 1. 1.]\n",
      "  [1. 1. 1. 1. 1.]]\n",
      "\n",
      " [[1. 1. 1. 1. 1.]\n",
      "  [1. 1. 1. 1. 1.]\n",
      "  [1. 1. 1. 1. 1.]]]\n"
     ]
    }
   ],
   "source": [
    "#c = np.transpose(b)\n",
    "# print(np.shape(c)) -> Transponer la función no es válido porque se necesita 2x3x5 y al transponerla devuelve 3x2x5\n",
    "c = b.reshape(2, 3, 5)\n",
    "print(c)"
   ]
  },
  {
   "cell_type": "markdown",
   "metadata": {},
   "source": [
    "#### 10. Try to add *a* and *c*. Now it should work. Assign the sum to variable *d*. But why does it work now?"
   ]
  },
  {
   "cell_type": "code",
   "execution_count": 25,
   "metadata": {},
   "outputs": [
    {
     "name": "stdout",
     "output_type": "stream",
     "text": [
      "[[[17. 77. 88. 22. 29.]\n",
      "  [64. 14. 37. 50. 72.]\n",
      "  [24. 93. 76. 25. 47.]]\n",
      "\n",
      " [[68.  5. 70. 29. 51.]\n",
      "  [69. 84. 17. 88.  1.]\n",
      "  [30. 24. 89. 16. 76.]]]\n"
     ]
    }
   ],
   "source": [
    "d = np.add(a,c)\n",
    "print(d)\n",
    "\n",
    "#Funciona porque son del mismo tamaño"
   ]
  },
  {
   "cell_type": "markdown",
   "metadata": {},
   "source": [
    "#### 11. Print *a* and *d*. Notice the difference and relation of the two array in terms of the values? Explain."
   ]
  },
  {
   "cell_type": "code",
   "execution_count": 31,
   "metadata": {},
   "outputs": [
    {
     "name": "stdout",
     "output_type": "stream",
     "text": [
      "[[[16 76 87 21 28]\n",
      "  [63 13 36 49 71]\n",
      "  [23 92 75 24 46]]\n",
      "\n",
      " [[67  4 69 28 50]\n",
      "  [68 83 16 87  0]\n",
      "  [29 23 88 15 75]]]\n",
      "- - - - - - - - - - - - - - -\n",
      "[[[17. 77. 88. 22. 29.]\n",
      "  [64. 14. 37. 50. 72.]\n",
      "  [24. 93. 76. 25. 47.]]\n",
      "\n",
      " [[68.  5. 70. 29. 51.]\n",
      "  [69. 84. 17. 88.  1.]\n",
      "  [30. 24. 89. 16. 76.]]]\n"
     ]
    }
   ],
   "source": [
    "print(a)\n",
    "print('- - - - - - - - - - - - - - -')\n",
    "print(d)\n",
    "#La matriz 'd' suma 1 elemento en cada valor de los de la matriz 'a', pero además los números de la matriz 'd' son 'float'\n",
    "#y los elementos de la matriz 'a' son enteros"
   ]
  },
  {
   "cell_type": "markdown",
   "metadata": {},
   "source": [
    "#### 12. Multiply *a* and *c*. Assign the result to *e*."
   ]
  },
  {
   "cell_type": "code",
   "execution_count": 33,
   "metadata": {},
   "outputs": [
    {
     "name": "stdout",
     "output_type": "stream",
     "text": [
      "[[[16. 76. 87. 21. 28.]\n",
      "  [63. 13. 36. 49. 71.]\n",
      "  [23. 92. 75. 24. 46.]]\n",
      "\n",
      " [[67.  4. 69. 28. 50.]\n",
      "  [68. 83. 16. 87.  0.]\n",
      "  [29. 23. 88. 15. 75.]]]\n"
     ]
    }
   ],
   "source": [
    "e = (a*c)\n",
    "print(e)"
   ]
  },
  {
   "cell_type": "markdown",
   "metadata": {},
   "source": [
    "#### 13. Does *e* equal to *a*? Why or why not?\n"
   ]
  },
  {
   "cell_type": "code",
   "execution_count": null,
   "metadata": {},
   "outputs": [],
   "source": [
    "#no son iguales porque los elementos de 'e' son float y los de 'a' son eneteros"
   ]
  },
  {
   "cell_type": "markdown",
   "metadata": {},
   "source": [
    "#### 14. Identify the max, min, and mean values in *d*. Assign those values to variables *d_max*, *d_min* and *d_mean*."
   ]
  },
  {
   "cell_type": "code",
   "execution_count": 36,
   "metadata": {},
   "outputs": [
    {
     "name": "stdout",
     "output_type": "stream",
     "text": [
      "93.0\n",
      "1.0\n",
      "48.4\n"
     ]
    }
   ],
   "source": [
    "d_max = np.max(d)\n",
    "print(d_max)\n",
    "d_min = np.min(d)\n",
    "print(d_min)\n",
    "d_mean = np.mean(d)\n",
    "print(d_mean)"
   ]
  },
  {
   "cell_type": "markdown",
   "metadata": {},
   "source": [
    "#### 15. Now we want to label the values in *d*. First create an empty array *f* with the same shape (i.e. 2x3x5) as *d* using `np.empty`.\n"
   ]
  },
  {
   "cell_type": "code",
   "execution_count": 41,
   "metadata": {},
   "outputs": [
    {
     "name": "stdout",
     "output_type": "stream",
     "text": [
      "[[[16. 76. 87. 21. 28.]\n",
      "  [63. 13. 36. 49. 71.]\n",
      "  [23. 92. 75. 24. 46.]]\n",
      "\n",
      " [[67.  4. 69. 28. 50.]\n",
      "  [68. 83. 16. 87.  0.]\n",
      "  [29. 23. 88. 15. 75.]]]\n"
     ]
    }
   ],
   "source": [
    "f = np.empty(shape = (2,3,5))\n",
    "print(f)"
   ]
  },
  {
   "cell_type": "markdown",
   "metadata": {},
   "source": [
    "#### 16. Populate the values in *f*. \n",
    "\n",
    "For each value in *d*, if it's larger than *d_min* but smaller than *d_mean*, assign 25 to the corresponding value in *f*. If a value in *d* is larger than *d_mean* but smaller than *d_max*, assign 75 to the corresponding value in *f*. If a value equals to *d_mean*, assign 50 to the corresponding value in *f*. Assign 0 to the corresponding value(s) in *f* for *d_min* in *d*. Assign 100 to the corresponding value(s) in *f* for *d_max* in *d*. In the end, f should have only the following values: 0, 25, 50, 75, and 100.\n",
    "\n",
    "**Note**: you don't have to use Numpy in this question."
   ]
  },
  {
   "cell_type": "code",
   "execution_count": 51,
   "metadata": {},
   "outputs": [
    {
     "name": "stdout",
     "output_type": "stream",
     "text": [
      "[[[ 25  75  75  25  25]\n",
      "  [ 75  25  25  75  75]\n",
      "  [ 25 100  75  25  25]]\n",
      "\n",
      " [[ 75  25  75  25  75]\n",
      "  [ 75  75  25  75   0]\n",
      "  [ 25  25  75  25  75]]]\n"
     ]
    }
   ],
   "source": [
    "f = 25 * (d > d_min) * (d < d_mean) + 75 * (d < d_max) * (d > d_mean) + 0 * (d == d_min) + 100 * (d == d_max)\n",
    "print(f)"
   ]
  },
  {
   "cell_type": "markdown",
   "metadata": {},
   "source": [
    "#### 17. Print *d* and *f*. Do you have your expected *f*?\n",
    "For instance, if your *d* is:\n",
    "```python\n",
    "[[[1.85836099, 1.67064465, 1.62576044, 1.40243961, 1.88454931],\n",
    "[1.75354326, 1.69403643, 1.36729252, 1.61415071, 1.12104981],\n",
    "[1.72201435, 1.1862918 , 1.87078449, 1.7726778 , 1.88180042]],\n",
    "[[1.44747908, 1.31673383, 1.02000951, 1.52218947, 1.97066381],\n",
    "[1.79129243, 1.74983003, 1.96028037, 1.85166831, 1.65450881],\n",
    "[1.18068344, 1.9587381 , 1.00656599, 1.93402165, 1.73514584]]]\n",
    "```\n",
    "Your *f* should be:\n",
    "```python\n",
    "[[[ 75.,  75.,  75.,  25.,  75.],\n",
    "[ 75.,  75.,  25.,  25.,  25.],\n",
    "[ 75.,  25.,  75.,  75.,  75.]],\n",
    "[[ 25.,  25.,  25.,  25., 100.],\n",
    "[ 75.,  75.,  75.,  75.,  75.],\n",
    "[ 25.,  75.,   0.,  75.,  75.]]]\n",
    "```"
   ]
  },
  {
   "cell_type": "code",
   "execution_count": 50,
   "metadata": {},
   "outputs": [
    {
     "name": "stdout",
     "output_type": "stream",
     "text": [
      "[[[17. 77. 88. 22. 29.]\n",
      "  [64. 14. 37. 50. 72.]\n",
      "  [24. 93. 76. 25. 47.]]\n",
      "\n",
      " [[68.  5. 70. 29. 51.]\n",
      "  [69. 84. 17. 88.  1.]\n",
      "  [30. 24. 89. 16. 76.]]]\n",
      "- - - - - - - - - - - - - - -\n",
      "[[[ 25  75  75  25  25]\n",
      "  [ 75  25  25  75  75]\n",
      "  [ 25 100  75  25  25]]\n",
      "\n",
      " [[ 75  25  75  25  75]\n",
      "  [ 75  75  25  75   0]\n",
      "  [ 25  25  75  25  75]]]\n"
     ]
    }
   ],
   "source": [
    "print(d)\n",
    "print('- - - - - - - - - - - - - - -')\n",
    "print(f)"
   ]
  },
  {
   "cell_type": "markdown",
   "metadata": {},
   "source": [
    "#### 18. Bonus question: instead of using numbers (i.e. 0, 25, 50, 75, and 100), use string values  (\"A\", \"B\", \"C\", \"D\", and \"E\") to label the array elements. For the example above, the expected result is:\n",
    "\n",
    "```python\n",
    "[[[ 'D',  'D',  'D',  'B',  'D'],\n",
    "[ 'D',  'D',  'B',  'B',  'B'],\n",
    "[ 'D',  'B',  'D',  'D',  'D']],\n",
    "[[ 'B',  'B',  'B',  'B',  'E'],\n",
    "[ 'D',  'D',  'D',  'D',  'D'],\n",
    "[ 'B',  'D',   'A',  'D', 'D']]]\n",
    "```\n",
    "**Note**: you don't have to use Numpy in this question."
   ]
  },
  {
   "cell_type": "code",
   "execution_count": null,
   "metadata": {},
   "outputs": [],
   "source": []
  }
 ],
 "metadata": {
  "kernelspec": {
   "display_name": "Python [conda env:m1_env]",
   "language": "python",
   "name": "conda-env-m1_env-py"
  },
  "language_info": {
   "codemirror_mode": {
    "name": "ipython",
    "version": 3
   },
   "file_extension": ".py",
   "mimetype": "text/x-python",
   "name": "python",
   "nbconvert_exporter": "python",
   "pygments_lexer": "ipython3",
   "version": "3.9.16"
  }
 },
 "nbformat": 4,
 "nbformat_minor": 2
}
