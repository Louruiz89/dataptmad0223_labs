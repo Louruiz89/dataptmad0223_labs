{
 "cells": [
  {
   "cell_type": "code",
   "execution_count": 2,
   "id": "f5ecaa3c",
   "metadata": {},
   "outputs": [
    {
     "name": "stdout",
     "output_type": "stream",
     "text": [
      "Welcome to this calculator!\n",
      "It can add and subtract whole numbers from zero to five\n",
      "Please choose your first number (zero to five): one\n",
      "What do you want to do? plus or minus: plus\n",
      "Please choose your second number (zero to five): one\n"
     ]
    }
   ],
   "source": [
    "print('Welcome to this calculator!')\n",
    "print('It can add and subtract whole numbers from zero to five')\n",
    "a = input('Please choose your first number (zero to five): ')\n",
    "b = input('What do you want to do? plus or minus: ')\n",
    "c = input('Please choose your second number (zero to five): ')"
   ]
  },
  {
   "cell_type": "code",
   "execution_count": 9,
   "id": "c2bee9ca",
   "metadata": {},
   "outputs": [],
   "source": [
    "numbers = {'zero':0, 'one':1, 'two':2, 'three':3, 'four':4, 'five':5}\n",
    "operation = {'plus': 1, 'minus':-1}\n",
    "\n",
    "if a in numbers.keys():\n",
    "    num1 = numbers[a]\n",
    "else:\n",
    "    print(\"I am not able to answer this question. Check your input.\")\n",
    "\n",
    "if b in operation.keys():\n",
    "    factor = operation[b]\n",
    "else: \n",
    "    print(\"I am not able to answer this question. Check your input.\")\n",
    "    \n",
    "factor\n",
    "\n",
    "if c in numbers.keys():\n",
    "    num2 = numbers[c] * factor\n",
    "else: \n",
    "    print(\"I am not able to answer this question. Check your input.\")"
   ]
  },
  {
   "cell_type": "code",
   "execution_count": 10,
   "id": "da979dcd",
   "metadata": {},
   "outputs": [],
   "source": [
    "result = sum([num1,num2])"
   ]
  },
  {
   "cell_type": "code",
   "execution_count": 11,
   "id": "0634e5de",
   "metadata": {},
   "outputs": [],
   "source": [
    "dict_result = {0:'zero', 1:'one', 2:'two', 3:'three', 4:'four', 5:'five'}"
   ]
  },
  {
   "cell_type": "code",
   "execution_count": 12,
   "id": "bc9ecc07",
   "metadata": {},
   "outputs": [],
   "source": [
    "if factor < 0:\n",
    "    num_sign = 'negative '\n",
    "else: \n",
    "    num_sign = ''"
   ]
  },
  {
   "cell_type": "code",
   "execution_count": 13,
   "id": "8cb475b8",
   "metadata": {},
   "outputs": [],
   "source": [
    "num_result = dict_result[abs(result)]"
   ]
  },
  {
   "cell_type": "code",
   "execution_count": 14,
   "id": "6703c7b1",
   "metadata": {},
   "outputs": [
    {
     "name": "stdout",
     "output_type": "stream",
     "text": [
      "one plus one equals two\n"
     ]
    }
   ],
   "source": [
    "print(f'{a} {b} {c} equals {num_sign}{num_result}')"
   ]
  }
 ],
 "metadata": {
  "kernelspec": {
   "display_name": "Python [conda env:m1_env] *",
   "language": "python",
   "name": "conda-env-m1_env-py"
  },
  "language_info": {
   "codemirror_mode": {
    "name": "ipython",
    "version": 3
   },
   "file_extension": ".py",
   "mimetype": "text/x-python",
   "name": "python",
   "nbconvert_exporter": "python",
   "pygments_lexer": "ipython3",
   "version": "3.9.16"
  }
 },
 "nbformat": 4,
 "nbformat_minor": 5
}
